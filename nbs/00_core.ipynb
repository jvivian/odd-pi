{
 "cells": [
  {
   "cell_type": "code",
   "execution_count": null,
   "metadata": {},
   "outputs": [],
   "source": [
    "# | echo: false\n",
    "from nbdev import show_doc\n"
   ]
  },
  {
   "cell_type": "code",
   "execution_count": null,
   "metadata": {},
   "outputs": [],
   "source": [
    "# | default_exp core\n"
   ]
  },
  {
   "attachments": {},
   "cell_type": "markdown",
   "metadata": {},
   "source": [
    "# core\n"
   ]
  },
  {
   "cell_type": "markdown",
   "metadata": {},
   "source": [
    "> **O**bject **D**etection over **D**iscord using the Raspberry **PI**"
   ]
  },
  {
   "attachments": {},
   "cell_type": "markdown",
   "metadata": {},
   "source": [
    "## Setup\n",
    "\n",
    "Required environment variables in `.env` file\n",
    "\n",
    "- `PI_HOSTNAME`\n",
    "    - Hostname (IP) to use for raspberry pi server\n",
    "- `PI_PASSWORD`\n",
    "    - to use `capture_and_fetch` on pi server\n",
    "- `DISCORD_ID`\n",
    "    - This is the Discord client ID token\n",
    "- `DISCORD_TOKEN`\n",
    "    - Discord bot token\n"
   ]
  },
  {
   "attachments": {},
   "cell_type": "markdown",
   "metadata": {},
   "source": [
    "## Camera and Network\n",
    "\n",
    "Connect to Pi, take pictures, and save image locally"
   ]
  },
  {
   "cell_type": "code",
   "execution_count": null,
   "metadata": {},
   "outputs": [],
   "source": [
    "# | export\n",
    "import os\n",
    "\n",
    "FILE_PATH = os.path.abspath(\"\")\n"
   ]
  },
  {
   "cell_type": "code",
   "execution_count": null,
   "metadata": {},
   "outputs": [],
   "source": [
    "# | eval: false\n",
    "# | skip_showdoc\n",
    "# | echo: false\n",
    "FILE_PATH = (globals()[\"_dh\"][0] / \"odd_pi\").as_posix()\n"
   ]
  },
  {
   "cell_type": "code",
   "execution_count": null,
   "metadata": {},
   "outputs": [
    {
     "name": "stderr",
     "output_type": "stream",
     "text": [
      "/home/jvivian/miniconda3/envs/odd-pi/lib/python3.10/site-packages/paramiko/transport.py:219: CryptographyDeprecationWarning: Blowfish has been deprecated\n",
      "  \"class\": algorithms.Blowfish,\n"
     ]
    }
   ],
   "source": [
    "# | export\n",
    "import random\n",
    "\n",
    "import discord\n",
    "from pathlib import Path\n",
    "import polars as pl\n",
    "import paramiko\n",
    "import time\n",
    "import cv2\n",
    "import matplotlib.pyplot as plt\n",
    "import numpy as np\n",
    "import os\n",
    "from dotenv import load_dotenv\n",
    "from rich import print\n",
    "from cvu.detector.yolov5 import Yolov5 as Yolov5Onnx\n",
    "from cvu.detector.prediction import Prediction\n",
    "\n",
    "DATA_DIR = Path(FILE_PATH).parent.parent / \"data\"\n",
    "NAME_PATH = (DATA_DIR.parent / \"models\") / \"yolo.names\"\n",
    "TEST_PATH = DATA_DIR / \"test.jpg\"\n",
    "CMD = \"raspistill -t 0 -h 640 -w 640 -o ~/Desktop/capture.jpg\"\n",
    "\n",
    "\n",
    "def pltimg(img: cv2.Mat) -> plt.Figure:\n",
    "    \"\"\"Plots picture\"\"\"\n",
    "    return plt.imshow(cv2.cvtColor(img, cv2.COLOR_BGR2RGB))\n",
    "\n",
    "\n",
    "def capture_and_fetch(\n",
    "    username: str = \"pi\",  # Username for Raspberry Pi\n",
    "    local_path: str = \"./data/capture.jpg\",  # Path to save image\n",
    "    delay: int = None,  # Delay between command and picture is taken\n",
    "    cmd=CMD,  # Raspberry pi camera command\n",
    "):\n",
    "    \"\"\"Requires `PI_PASSWORD` be set in .env file. Delay is the number of milliseconds before taking picture\"\"\"\n",
    "    load_dotenv()\n",
    "    hostname = os.environ[\"PI_HOSTNAME\"]\n",
    "    password = os.environ[\"PI_PASSWORD\"]\n",
    "    assert hostname is not None, \"Failed to get env_var `PI_HOSTNAME`\"\n",
    "    assert password is not None, \"Failed to get env_var `PI_PASSWORD`\"\n",
    "    ssh_client = _connect(hostname, username, password)\n",
    "\n",
    "    if delay:\n",
    "        time.sleep(delay)\n",
    "\n",
    "    ssh_client.exec_command(cmd)\n",
    "    time.sleep(1)\n",
    "\n",
    "    _fetch(ssh_client, \"/home/pi/Desktop/capture.jpg\", local_path)\n",
    "\n",
    "\n",
    "def _connect(hostname: str, username: str, password: str) -> paramiko.SSHClient():\n",
    "    \"\"\"Connects to client\"\"\"\n",
    "    ssh_client = paramiko.SSHClient()\n",
    "    ssh_client.set_missing_host_key_policy(paramiko.AutoAddPolicy())\n",
    "    ssh_client.connect(hostname=hostname, username=username, password=password)\n",
    "    return ssh_client\n",
    "\n",
    "\n",
    "def _fetch(client: paramiko.SSHClient, remote_path: str, local_path: str):\n",
    "    \"\"\"Fetches single file using SSHClient\"\"\"\n",
    "    ftp_client = client.open_sftp()\n",
    "    ftp_client.get(remote_path, local_path)\n",
    "    ftp_client.close()\n"
   ]
  },
  {
   "attachments": {},
   "cell_type": "markdown",
   "metadata": {},
   "source": [
    "## Model and Prediction\n",
    "\n",
    "Fetch YOLOv5 model and predict on image"
   ]
  },
  {
   "cell_type": "code",
   "execution_count": null,
   "metadata": {},
   "outputs": [],
   "source": [
    "# | export\n",
    "def predict(model: Yolov5Onnx, image_path: str) -> tuple[pl.DataFrame, np.ndarray]:\n",
    "    \"\"\"Runs model on input image and returns predictions and output image\"\"\"\n",
    "    img = cv2.imread(image_path)\n",
    "    preds = model(img)\n",
    "    fig = pltimg(preds.draw(img))\n",
    "    fig.write_png(image_path[:-4] + \"_yolo.png\")\n",
    "    return df_from_preds(preds), img\n",
    "\n",
    "\n",
    "def get_default_model() -> Yolov5Onnx:\n",
    "    \"\"\"Retrieves default YOLOv5 model\"\"\"\n",
    "    return Yolov5Onnx(classes=\"coco\", backend=\"onnx\", weight=\"yolov5s\", device=\"cpu\")\n",
    "\n",
    "\n",
    "def df_from_preds(preds: Prediction) -> pl.DataFrame:\n",
    "    \"\"\"Converts annoying object to DataFrame\"\"\"\n",
    "    rows = []\n",
    "    for row in str(preds).split(\"\\n\"):\n",
    "        row = row.split(\"\\t\")\n",
    "        row = [x.split(\"=\")[1].strip(\";\") for x in row if \"=\" in x]\n",
    "        rows.append(row)\n",
    "    df = pl.DataFrame(rows).transpose()\n",
    "    df.columns = [\"class\", \"confidence\", \"tl\", \"br\"]\n",
    "    return df.select([\"class\", pl.col(\"confidence\").cast(pl.Float32)])\n"
   ]
  },
  {
   "attachments": {},
   "cell_type": "markdown",
   "metadata": {},
   "source": [
    "Example use\n",
    "\n",
    "```python\n",
    "model = get_default_model()\n",
    "preds, img = predict(model, '/path/to/img')\n",
    "```"
   ]
  },
  {
   "attachments": {},
   "cell_type": "markdown",
   "metadata": {},
   "source": [
    "## Discord Bot\n",
    "\n",
    "> Manage interactions to camera via Discord Bot"
   ]
  },
  {
   "cell_type": "code",
   "execution_count": null,
   "metadata": {},
   "outputs": [],
   "source": [
    "# | eval: false\n",
    "# | echo: false\n",
    "# Required to run in jupyter but not in our package\n",
    "import nest_asyncio\n",
    "\n",
    "nest_asyncio.apply()\n"
   ]
  },
  {
   "cell_type": "code",
   "execution_count": null,
   "metadata": {},
   "outputs": [],
   "source": [
    "# | export\n",
    "def run_bot():\n",
    "    intents = discord.Intents.default()\n",
    "    intents.message_content = True\n",
    "    client = discord.Client(intents=intents)\n",
    "\n",
    "    @client.event\n",
    "    async def on_ready():\n",
    "        \"\"\"Indicates bot is ready\"\"\"\n",
    "        print(f\"{client.user} has connected to Discord. Hello!\")\n",
    "\n",
    "    @client.event\n",
    "    async def on_member_join(member):\n",
    "        \"\"\"Responds to members joining\"\"\"\n",
    "        await member.create_dm()\n",
    "        await member.dm_channel.send(\n",
    "            f\"Hello {member.name}, welcome to Islander Walk Securitron 9000\"\n",
    "        )\n",
    "\n",
    "    @client.event\n",
    "    async def on_message(message):\n",
    "        \"\"\"Responds to messages from users\"\"\"\n",
    "        if message.author == client.user:\n",
    "            return\n",
    "\n",
    "        if message.content == \"99!\":\n",
    "            b99 = [\"Cool. Cool Cool Cool Cool\", \"no doubt no doubt no doubt\"]\n",
    "            response = random.choice(b99)\n",
    "            await message.channel.send(response)\n",
    "\n",
    "        elif message.content.lower() == \"pi!\":\n",
    "            await take_picture(message)\n",
    "\n",
    "        elif message.content.lower() == \"oddpi!\":\n",
    "            await take_and_model_picture(message)\n",
    "\n",
    "    async def take_picture(message):\n",
    "        \"\"\"Takes picture and uploads it to channel\"\"\"\n",
    "        capture_and_fetch(username=\"pi\", local_path=\"./img.jpg\")\n",
    "        with open(\"./img.jpg\", \"rb\") as f:\n",
    "            picture = discord.File(f)\n",
    "            print(\n",
    "                f\"Sent picture to {message.channel.name} at {message.created_at} triggered by {message.author}\"\n",
    "            )\n",
    "            await message.channel.send(file=picture)\n",
    "\n",
    "    async def take_and_model_picture(message):\n",
    "        \"\"\"Takes picture, runs YOLOv5, and uploads it to channel\"\"\"\n",
    "        capture_and_fetch(username=\"pi\", local_path=\"./img.jpg\")\n",
    "        model = get_default_model()\n",
    "        preds, img = predict(model, \"./img.jpg\")\n",
    "        print(preds)\n",
    "        await send_file(message, \"./img_yolo.png\")\n",
    "\n",
    "    async def send_file(message, file_path):\n",
    "        with open(file_path, \"rb\") as f:\n",
    "            picture = discord.File(f)\n",
    "            print(\n",
    "                f\"Sent picture to {message.channel.name} at {message.created_at} triggered by {message.author}\"\n",
    "            )\n",
    "            await message.channel.send(file=picture)\n",
    "\n",
    "    load_dotenv()\n",
    "    token = os.getenv(\"DISCORD_TOKEN\")\n",
    "    assert token is not None, \"Failed to get env_var `DISCORD_TOKEN`\"\n",
    "    client.run(token)\n"
   ]
  },
  {
   "cell_type": "code",
   "execution_count": null,
   "metadata": {},
   "outputs": [],
   "source": [
    "# | hide\n",
    "import nbdev\n",
    "\n",
    "nbdev.nbdev_export()\n"
   ]
  }
 ],
 "metadata": {
  "kernelspec": {
   "display_name": "python3",
   "language": "python",
   "name": "python3"
  }
 },
 "nbformat": 4,
 "nbformat_minor": 4
}
