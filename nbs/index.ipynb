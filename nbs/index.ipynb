{
 "cells": [
  {
   "cell_type": "code",
   "execution_count": null,
   "metadata": {},
   "outputs": [
    {
     "name": "stderr",
     "output_type": "stream",
     "text": [
      "/home/jvivian/miniconda3/envs/odd-pi/lib/python3.10/site-packages/paramiko/transport.py:219: CryptographyDeprecationWarning: Blowfish has been deprecated\n",
      "  \"class\": algorithms.Blowfish,\n"
     ]
    }
   ],
   "source": [
    "#| hide\n",
    "from odd_pi.core import *"
   ]
  },
  {
   "attachments": {},
   "cell_type": "markdown",
   "metadata": {},
   "source": [
    "# odd-pi\n"
   ]
  },
  {
   "attachments": {},
   "cell_type": "markdown",
   "metadata": {},
   "source": [
    "> **O**bject **D**etection over **D**iscord using the Raspberry **PI**\n",
    "\n",
    "See [Documentation](https://jvivian.github.io/odd-pi) for more details"
   ]
  },
  {
   "cell_type": "raw",
   "metadata": {},
   "source": [
    "```{mermaid}\n",
    "stateDiagram-v2\n",
    "    [*] --> DiscordServer: \"Take Pic\"\n",
    "    DiscordServer --> DiscordAPI: Bot Listens\n",
    "    DiscordAPI --> HomeServer: Coroutine Begins\n",
    "    HomeServer --> LocalNetwork: raspistill\n",
    "    LocalNetwork --> Pi: raspistill\n",
    "    state Pi {\n",
    "        [*] --> Camera\n",
    "    }\n",
    "    Pi --> LocalNetwork: pic.png\n",
    "    LocalNetwork --> HomeServer: pic.png\n",
    "    HomeServer --> DiscordAPI: Coroutine Ends\n",
    "    DiscordAPI --> DiscordServer: Image Posted\n",
    "    DiscordServer --> [*]: User Notified\n",
    "```"
   ]
  },
  {
   "attachments": {},
   "cell_type": "markdown",
   "metadata": {},
   "source": [
    "## Quickstart\n",
    "\n",
    "- Setup Raspberry Pi with Camera and allow SSH\n",
    "- On a different machine:\n",
    "    - `git clone https://github.com/jvivian/odd-pi && cd odd-pi && pip install ./`\n",
    "    - Set required env variables in `.env` file\n",
    "    - `python scripts/launch_discord_bot.py`\n",
    "\n",
    "Type `pi!` in any channel to get a picture taken and `oddpi!` to have that picture \n",
    "classified by YOLOv5 and uploaded to the same channel"
   ]
  },
  {
   "attachments": {},
   "cell_type": "markdown",
   "metadata": {},
   "source": [
    "## Roadmap\n",
    "\n",
    "- [ ] Add CLI to launch script\n",
    "    - camera commands, etc,\n",
    "- [ ] Add critical CCC: Cat Camera Coroutine\n",
    "    - [ ] Make extensible to any class $C$ object, time duration, etc"
   ]
  },
  {
   "attachments": {},
   "cell_type": "markdown",
   "metadata": {},
   "source": [
    "![](./example-odd-pi.PNG)"
   ]
  }
 ],
 "metadata": {
  "kernelspec": {
   "display_name": "python3",
   "language": "python",
   "name": "python3"
  }
 },
 "nbformat": 4,
 "nbformat_minor": 4
}
