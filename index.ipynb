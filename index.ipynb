{
 "cells": [
  {
   "cell_type": "code",
   "execution_count": null,
   "metadata": {},
   "outputs": [],
   "source": [
    "#| hide\n",
    "from odd_pi.core import *"
   ]
  },
  {
   "attachments": {},
   "cell_type": "markdown",
   "metadata": {},
   "source": [
    "# odd-pi\n"
   ]
  },
  {
   "attachments": {},
   "cell_type": "markdown",
   "metadata": {},
   "source": [
    "> **O**bject **D**etection over **D**iscord using the Raspberry **PI**\n",
    "\n",
    "See [Documentation](https://jvivian.github.io/odd-pi) for more details"
   ]
  },
  {
   "cell_type": "markdown",
   "metadata": {},
   "source": [
    "## Install"
   ]
  },
  {
   "cell_type": "markdown",
   "metadata": {},
   "source": [
    "```sh\n",
    "pip install odd_pi\n",
    "```"
   ]
  },
  {
   "attachments": {},
   "cell_type": "markdown",
   "metadata": {},
   "source": [
    "## Quickstart\n",
    "\n",
    "- Setup Raspberry Pi with Camera and allow SSH\n",
    "- On a different machine:\n",
    "    - `git clone https://github.com/jvivian/odd-pi && cd odd-pi && pip install ./`\n",
    "    - Set required env variables in `.env` file\n",
    "    - `python scripts/launch_discord_bot.py`\n",
    "\n",
    "Type `pi!` in any channel to get a picture taken and `oddpi!` to have that picture \n",
    "classified by YOLOv5 and uploaded to the same channel"
   ]
  },
  {
   "attachments": {},
   "cell_type": "markdown",
   "metadata": {},
   "source": [
    "![](./example-odd-pi.PNG)"
   ]
  }
 ],
 "metadata": {
  "kernelspec": {
   "display_name": "python3",
   "language": "python",
   "name": "python3"
  }
 },
 "nbformat": 4,
 "nbformat_minor": 4
}
