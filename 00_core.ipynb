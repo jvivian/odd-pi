{
 "cells": [
  {
   "cell_type": "code",
   "execution_count": null,
   "metadata": {},
   "outputs": [],
   "source": [
    "from nbdev import show_doc"
   ]
  },
  {
   "cell_type": "code",
   "execution_count": null,
   "metadata": {},
   "outputs": [],
   "source": [
    "#| default_exp core"
   ]
  },
  {
   "attachments": {},
   "cell_type": "markdown",
   "metadata": {},
   "source": [
    "# core\n",
    "\n",
    "> Contains core components for Raspberry Pi Object Detection over the network"
   ]
  },
  {
   "attachments": {},
   "cell_type": "markdown",
   "metadata": {},
   "source": [
    "## Setup\n",
    "\n",
    "Required environment variables in `.env` file\n",
    "\n",
    "- `PI_PASSWORD`\n",
    "    - to use `capture_and_fetch` on pi server\n",
    "- `DISCORD_ID`\n",
    "    - This is the Discord client ID token\n",
    "- `DISCORD_TOKEN`\n",
    "    - Discord bot token\n"
   ]
  },
  {
   "attachments": {},
   "cell_type": "markdown",
   "metadata": {},
   "source": [
    "## Camera and Network\n",
    "\n",
    "> Handles connection to Pi, taking pictures, and saving image locally"
   ]
  },
  {
   "cell_type": "code",
   "execution_count": null,
   "metadata": {},
   "outputs": [],
   "source": [
    "#| export\n",
    "import os\n",
    "FILE_PATH = os.path.abspath('') "
   ]
  },
  {
   "cell_type": "code",
   "execution_count": null,
   "metadata": {},
   "outputs": [],
   "source": [
    "#| eval: false\n",
    "#| skip_showdoc\n",
    "#| hideline\n",
    "FILE_PATH = (globals()['_dh'][0] / 'odd_pi').as_posix()"
   ]
  },
  {
   "cell_type": "code",
   "execution_count": null,
   "metadata": {},
   "outputs": [],
   "source": [
    "# | export\n",
    "import random\n",
    "\n",
    "import discord\n",
    "from pathlib import Path\n",
    "import polars as pl\n",
    "import paramiko\n",
    "import time\n",
    "import cv2\n",
    "import matplotlib.pyplot as plt\n",
    "import numpy as np\n",
    "import os\n",
    "from dotenv import load_dotenv\n",
    "\n",
    "DATA_DIR = Path(FILE_PATH).parent.parent / \"data\"\n",
    "NAME_PATH = (DATA_DIR.parent / \"models\") / \"yolo.names\"\n",
    "TEST_PATH = DATA_DIR / \"test.jpg\"\n",
    "CMD = \"raspistill -t 0 -h 640 -w 640 -o ~/Desktop/capture.jpg\"\n",
    "\n",
    "\n",
    "def pltimg(img: cv2.Mat) -> plt.Figure:\n",
    "    \"\"\"Plots picture\"\"\"\n",
    "    return plt.imshow(cv2.cvtColor(img, cv2.COLOR_BGR2RGB))\n",
    "\n",
    "\n",
    "def capture_and_fetch(\n",
    "    hostname: str,\n",
    "    username: str = \"pi\",\n",
    "    local_path: str = \"./data/capture.jpg\",\n",
    "    delay: int = None,\n",
    "    cmd=CMD,\n",
    "):\n",
    "    \"\"\"Requires `PI_PASSWORD be set in .env file. Delay is the number of milliseconds before taking picture\"\"\"\n",
    "    load_dotenv()\n",
    "    password = os.environ[\"PI_PASSWORD\"]\n",
    "    ssh_client = _connect(hostname, username, password)\n",
    "\n",
    "    if delay:\n",
    "        time.sleep(delay)\n",
    "\n",
    "    ssh_client.exec_command(cmd)\n",
    "    time.sleep(0.5)\n",
    "\n",
    "    _fetch(ssh_client, \"/home/pi/Desktop/capture.jpg\", local_path)\n",
    "\n",
    "\n",
    "def _connect(hostname: str, username: str, password: str) -> paramiko.SSHClient():\n",
    "    \"\"\"Connects to client\"\"\"\n",
    "    ssh_client = paramiko.SSHClient()\n",
    "    ssh_client.set_missing_host_key_policy(paramiko.AutoAddPolicy())\n",
    "    ssh_client.connect(hostname=hostname, username=username, password=password)\n",
    "    return ssh_client\n",
    "\n",
    "\n",
    "def _fetch(client: paramiko.SSHClient, remote_path: str, local_path: str):\n",
    "    \"\"\"Fetches single file using SSHClient\"\"\"\n",
    "    ftp_client = client.open_sftp()\n",
    "    ftp_client.get(remote_path, local_path)\n",
    "    ftp_client.close()\n",
    "\n"
   ]
  },
  {
   "cell_type": "code",
   "execution_count": null,
   "metadata": {},
   "outputs": [
    {
     "data": {
      "text/markdown": [
       "---\n",
       "\n",
       "### capture_and_fetch\n",
       "\n",
       ">      capture_and_fetch (hostname:str, username:str='pi',\n",
       ">                         local_path:str='./data/capture.jpg', delay:int=None,\n",
       ">                         cmd='raspistill -t 0 -h 640 -w 640 -o\n",
       ">                         ~/Desktop/capture.jpg')\n",
       "\n",
       "Requires `PI_PASSWORD be set in .env file. Delay is the number of milliseconds before taking picture"
      ],
      "text/plain": [
       "---\n",
       "\n",
       "### capture_and_fetch\n",
       "\n",
       ">      capture_and_fetch (hostname:str, username:str='pi',\n",
       ">                         local_path:str='./data/capture.jpg', delay:int=None,\n",
       ">                         cmd='raspistill -t 0 -h 640 -w 640 -o\n",
       ">                         ~/Desktop/capture.jpg')\n",
       "\n",
       "Requires `PI_PASSWORD be set in .env file. Delay is the number of milliseconds before taking picture"
      ]
     },
     "execution_count": null,
     "metadata": {},
     "output_type": "execute_result"
    }
   ],
   "source": [
    "show_doc(capture_and_fetch)"
   ]
  },
  {
   "attachments": {},
   "cell_type": "markdown",
   "metadata": {},
   "source": [
    "## Model and Prediction\n",
    "\n",
    "> Fetch YOLOv5 model and predict on image"
   ]
  },
  {
   "cell_type": "code",
   "execution_count": null,
   "metadata": {},
   "outputs": [],
   "source": [
    "#| export\n",
    "from cvu.detector.yolov5 import Yolov5 as Yolov5Onnx\n",
    "\n",
    "def predict(model, image_path):\n",
    "    img = cv2.imread(image_path)\n",
    "    preds = model(img)\n",
    "    fig = pltimg(preds.draw(img))\n",
    "    fig.write_png(image_path[:-4] + \"_yolo.png\")\n",
    "    return preds, img\n",
    "\n",
    "\n",
    "def get_default_model():\n",
    "    return Yolov5Onnx(classes=\"coco\", backend=\"onnx\", weight=\"yolov5s\", device=\"cpu\")"
   ]
  },
  {
   "cell_type": "code",
   "execution_count": null,
   "metadata": {},
   "outputs": [
    {
     "data": {
      "text/markdown": [
       "---\n",
       "\n",
       "### predict\n",
       "\n",
       ">      predict (model, image_path)"
      ],
      "text/plain": [
       "---\n",
       "\n",
       "### predict\n",
       "\n",
       ">      predict (model, image_path)"
      ]
     },
     "execution_count": null,
     "metadata": {},
     "output_type": "execute_result"
    }
   ],
   "source": [
    "show_doc(predict)"
   ]
  },
  {
   "attachments": {},
   "cell_type": "markdown",
   "metadata": {},
   "source": [
    "Example use\n",
    "\n",
    "```python\n",
    "model = get_default_model()\n",
    "preds, img = predict(model, '/path/to/img')\n",
    "```"
   ]
  },
  {
   "attachments": {},
   "cell_type": "markdown",
   "metadata": {},
   "source": [
    "## Discord Bot\n",
    "\n",
    "> Manage interactions to camera via Discord Bot"
   ]
  },
  {
   "cell_type": "code",
   "execution_count": null,
   "metadata": {},
   "outputs": [],
   "source": [
    "# Required to run in jupyter but not in our package\n",
    "import nest_asyncio\n",
    "nest_asyncio.apply()"
   ]
  },
  {
   "cell_type": "code",
   "execution_count": null,
   "metadata": {},
   "outputs": [],
   "source": [
    "# | export\n",
    "\n",
    "TOKEN = os.getenv(\"DISCORD_TOKEN\")\n",
    "\n",
    "intents = discord.Intents.default()\n",
    "intents.message_content = True\n",
    "\n",
    "client = discord.Client(intents=intents)\n",
    "\n",
    "\n",
    "@client.event\n",
    "async def on_ready():\n",
    "    print(f\"{client.user} has connected to Discord. Hello!\")\n",
    "    # for guild in client.guilds:\n",
    "    #         print(f'{client.user} is connected to {guild.name}\\tID: {guild.id}')\n",
    "\n",
    "\n",
    "@client.event\n",
    "async def on_member_join(member):\n",
    "    await member.create_dm()\n",
    "    await member.dm_channel.send(\n",
    "        f\"Hello {member.name}, welcome to Islander Walk Securitron 9000\"\n",
    "    )\n",
    "\n",
    "\n",
    "@client.event\n",
    "async def on_message(message):\n",
    "    if message.author == client.user:\n",
    "        return\n",
    "\n",
    "    b99 = [\"Bingpot\", \"Cool. Cool Cool Cool Cool\", \"no doubt no doubt no doubt\"]\n",
    "    if message.content == \"99!\":\n",
    "        response = random.choice(b99)\n",
    "        await message.channel.send(response)\n",
    "\n",
    "\n",
    "def take_picture(message):\n",
    "    capture_and_fetch()\n",
    "\n",
    "\n",
    "# client.run(TOKEN)\n"
   ]
  },
  {
   "cell_type": "code",
   "execution_count": null,
   "metadata": {},
   "outputs": [],
   "source": [
    "#| hide\n",
    "import nbdev; nbdev.nbdev_export()"
   ]
  },
  {
   "cell_type": "code",
   "execution_count": null,
   "metadata": {},
   "outputs": [],
   "source": []
  },
  {
   "cell_type": "code",
   "execution_count": null,
   "metadata": {},
   "outputs": [],
   "source": []
  }
 ],
 "metadata": {
  "kernelspec": {
   "display_name": "python3",
   "language": "python",
   "name": "python3"
  }
 },
 "nbformat": 4,
 "nbformat_minor": 4
}
